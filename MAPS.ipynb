{
  "nbformat": 4,
  "nbformat_minor": 0,
  "metadata": {
    "colab": {
      "name": "MAPS.ipynb",
      "provenance": [],
      "collapsed_sections": [
        "F1p7UhsvkRNT",
        "J0b-KrPix_58",
        "rxPsDAM35t5d",
        "RGur0l6rdqAS"
      ],
      "include_colab_link": true
    },
    "kernelspec": {
      "name": "python3",
      "display_name": "Python 3"
    },
    "language_info": {
      "name": "python"
    }
  },
  "cells": [
    {
      "cell_type": "markdown",
      "metadata": {
        "id": "view-in-github",
        "colab_type": "text"
      },
      "source": [
        "<a href=\"https://colab.research.google.com/github/oscar-byte15/Adopt-Me-Ya-Front-End/blob/main/MAPS.ipynb\" target=\"_parent\"><img src=\"https://colab.research.google.com/assets/colab-badge.svg\" alt=\"Open In Colab\"/></a>"
      ]
    },
    {
      "cell_type": "markdown",
      "source": [
        "##**Diccionario de calles**\n",
        "Crea un diccionario donde cada nombre de calle ***(key)*** tiene asignado un `id` ***(value)***"
      ],
      "metadata": {
        "id": "F1p7UhsvkRNT"
      }
    },
    {
      "cell_type": "code",
      "source": [
        "import csv\n",
        "import json"
      ],
      "metadata": {
        "id": "UTrneN9hkUIW"
      },
      "execution_count": null,
      "outputs": []
    },
    {
      "cell_type": "code",
      "source": [
        "def addKey_Values(dictionary, key, value):\n",
        "    dictionary[key] = value"
      ],
      "metadata": {
        "id": "qvn_alN-9gkk"
      },
      "execution_count": null,
      "outputs": []
    },
    {
      "cell_type": "code",
      "source": [
        "def printDictionary(dictionary):\n",
        "    streets_pretty = json.dumps(dictionary, indent=2)\n",
        "    print(streets_pretty)"
      ],
      "metadata": {
        "id": "LE5QHCb5pbNy"
      },
      "execution_count": null,
      "outputs": []
    },
    {
      "cell_type": "code",
      "source": [
        "def cargarDatos(dictionary):\n",
        "    with open('Calles de San Martín de Porres.csv') as file: \n",
        "        reader = csv.reader(file)\n",
        "        \n",
        "        for id, row in enumerate(reader):\n",
        "            addKey_Values(dictionary, row[0].lower(), id)"
      ],
      "metadata": {
        "id": "aBWrVHPpFxBC"
      },
      "execution_count": null,
      "outputs": []
    },
    {
      "cell_type": "code",
      "source": [
        "def createStreetsDictionary():   \n",
        "    streets = {}\n",
        "    cargarDatos(streets)\n",
        "\n",
        "    return streets"
      ],
      "metadata": {
        "id": "HQAcMl46rQlA"
      },
      "execution_count": null,
      "outputs": []
    },
    {
      "cell_type": "code",
      "source": [
        "streetsDictionary = createStreetsDictionary()"
      ],
      "metadata": {
        "id": "KjmA0jq_Im3f"
      },
      "execution_count": null,
      "outputs": []
    },
    {
      "cell_type": "markdown",
      "source": [
        "##**Lista de Adyacencia de calles y sus intersecciones**\n",
        "\n",
        "\n"
      ],
      "metadata": {
        "id": "J0b-KrPix_58"
      }
    },
    {
      "cell_type": "code",
      "source": [
        "def streetExists(streetName):\n",
        "    if streetName in streetsDictionary:\n",
        "        id = streetsDictionary[streetName]\n",
        "    else:\n",
        "        id = -1 # la calle no está mapeada\n",
        "    return id"
      ],
      "metadata": {
        "id": "5hBrXQFU4geG"
      },
      "execution_count": null,
      "outputs": []
    },
    {
      "cell_type": "code",
      "source": [
        "def printAdList(graph): \n",
        "    for i, intersection in enumerate(graph):\n",
        "        print(i, intersection)\n",
        "    \n",
        "    print(f\"Cantidad de vértices = {len(graph)}\")"
      ],
      "metadata": {
        "id": "Gaop7miPqVSA"
      },
      "execution_count": null,
      "outputs": []
    },
    {
      "cell_type": "code",
      "source": [
        "# adjacencyList: arreglo de arreglos, donde la pos del primer elemento (1er arreglo)\n",
        "# es la calle y el arreglo son todas las calles con las que se intersecta\n",
        "def createAdjacencyList(adjacencyList):\n",
        "    with open('Calles de San Martín de Porres.csv') as file: \n",
        "        reader = csv.reader(file)\n",
        "        for row in reader:  \n",
        "            intersections = []\n",
        "            for i in range(len(row)):\n",
        "                if i != 0:\n",
        "                    intersections.append(streetExists(row[i].lower()))\n",
        "            adjacencyList.append(intersections)\n",
        "\n",
        "    return adjacencyList"
      ],
      "metadata": {
        "id": "ZTtbPcxvVxvy"
      },
      "execution_count": null,
      "outputs": []
    },
    {
      "cell_type": "code",
      "source": [
        "# creal la lista de adyacencia\n",
        "intersectionsAdList = createAdjacencyList([])\n",
        "printAdList(intersectionsAdList)"
      ],
      "metadata": {
        "id": "jdBc97CMMN2v"
      },
      "execution_count": null,
      "outputs": []
    },
    {
      "cell_type": "markdown",
      "source": [
        "##**Lista de Adyacencia de intersecciones**"
      ],
      "metadata": {
        "id": "rxPsDAM35t5d"
      }
    },
    {
      "cell_type": "code",
      "source": [
        "def createKeys(graph):\n",
        "    intersectionsIDs = {}\n",
        "\n",
        "    for i in range(len(graph)):\n",
        "        for street in graph[i]:\n",
        "            # si las keys aún no han sido creadas, las agrega al diccionario\n",
        "            if (i, street) not in intersectionsIDs and street != -1:\n",
        "                intersectionsIDs[(i, street)] = []\n",
        "\n",
        "    return intersectionsIDs"
      ],
      "metadata": {
        "id": "LCoD5Unynb4n"
      },
      "execution_count": null,
      "outputs": []
    },
    {
      "cell_type": "code",
      "source": [
        "def addIntersections(graph, i, j):  \n",
        "    street = graph[i][j]\n",
        "\n",
        "    if street != -1:\n",
        "        # agrego la intersección már próxima hacia la izquierda\n",
        "        if j > 0 and graph[i][j - 1] != -1:\n",
        "            tup = (i, graph[i][j - 1])\n",
        "            map[(i, street)].append(tup)\n",
        "\n",
        "        # agrego la intersección már próxima hacia la derecha\n",
        "        if j < len(graph[i]) - 1 and graph[i][j + 1] != -1:\n",
        "            tup = (i, graph[i][j + 1])\n",
        "            map[(i, street)].append(tup)"
      ],
      "metadata": {
        "id": "1qBKJ3lsAg2O"
      },
      "execution_count": null,
      "outputs": []
    },
    {
      "cell_type": "code",
      "source": [
        "def addIntersectionsReversed(graph, i, j):  \n",
        "    street = graph[i][j]\n",
        "\n",
        "    # ahora voy al reverso de la lista\n",
        "    if i != -1 and street != -1:\n",
        "        if (street < len(graph)) and (i in graph[street]):\n",
        "            tup = (street, i)\n",
        "            map[(i, street)].append(tup)\n",
        "            \n",
        "            k = graph[street].index(i) # k = 2\n",
        "\n",
        "            if k > 0 and graph[street][k - 1] != -1:\n",
        "                tup = (street, graph[street][k - 1])\n",
        "                map[(i, street)].append(tup)\n",
        "        \n",
        "            if k < len(graph[street]) - 1 and graph[street][k + 1] != -1:\n",
        "                tup = (street, graph[street][k + 1])\n",
        "                map[(i, street)].append(tup)"
      ],
      "metadata": {
        "id": "S9CGv6Fy-CN9"
      },
      "execution_count": null,
      "outputs": []
    },
    {
      "cell_type": "code",
      "source": [
        "def joinIntersections(graph):\n",
        "    n = len(graph)\n",
        "    for i in range(n):        \n",
        "        for j in range(len(graph[i])):\n",
        "            addIntersections(graph, i, j)\n",
        "            addIntersectionsReversed(graph, i, j)"
      ],
      "metadata": {
        "id": "kZCXXHwk50Ho"
      },
      "execution_count": null,
      "outputs": []
    },
    {
      "cell_type": "code",
      "source": [
        "# calcula el total de nodos solo par el grafo \"map\"\n",
        "def totalNodes(graph):\n",
        "    total = 0 \n",
        "    for key, value in graph.items():\n",
        "        total += len(value)\n",
        "        #print(key, \":\", value)\n",
        "    return total"
      ],
      "metadata": {
        "id": "B35aNBmhPfn6"
      },
      "execution_count": null,
      "outputs": []
    },
    {
      "cell_type": "code",
      "source": [
        "# grafo principal\n",
        "map = createKeys(intersectionsAdList)\n",
        "joinIntersections(intersectionsAdList)\n",
        "print(f\"Cantidad de nodos: {totalNodes(map)}\")"
      ],
      "metadata": {
        "id": "rZ0K3Io2RT03"
      },
      "execution_count": null,
      "outputs": []
    },
    {
      "cell_type": "markdown",
      "source": [
        "##**Diccionario de Latitudes y Longitudes para cada intersección**"
      ],
      "metadata": {
        "id": "ZaJHYPk9cw41"
      }
    },
    {
      "cell_type": "code",
      "source": [
        "def createLatLongDictionary(latlong):\n",
        "    with open(\"Latitud y Longitud de calles.csv\") as file: \n",
        "        reader = csv.reader(file)      \n",
        "        # ignora el header (la 1era fila del csv)\n",
        "        next(reader)\n",
        "        for row in reader:\n",
        "            # busco el id de la calle en mi diccionario de calles \n",
        "            intersection = streetExists(row[0]), streetExists(row[1])\n",
        "            if intersection[1] != -1:\n",
        "                latlong[intersection] = row[2], row[3]\n",
        "    \n",
        "    print(latlong)\n",
        "    return latlong\n",
        "      \n",
        "latlong = createLatLongDictionary({})"
      ],
      "metadata": {
        "id": "cC3C0s5FcwJV"
      },
      "execution_count": null,
      "outputs": []
    },
    {
      "cell_type": "markdown",
      "source": [
        "###**Escribir archivos**"
      ],
      "metadata": {
        "id": "RGur0l6rdqAS"
      }
    },
    {
      "cell_type": "code",
      "source": [
        "def writeNodes():\n",
        "    with open(\"nodes.txt\", \"w\") as f:\n",
        "        with open('Calles de San Martín de Porres.csv') as file: \n",
        "            reader = csv.reader(file)\n",
        "\n",
        "            for row in reader:\n",
        "                for i in range(1, len(row)):                    \n",
        "                    f.write(f\"{row[0]}, {row[i]}\\n\")\n",
        "writeNodes()"
      ],
      "metadata": {
        "id": "E_-CDP5DXzNX"
      },
      "execution_count": null,
      "outputs": []
    },
    {
      "cell_type": "code",
      "source": [
        "# Streets Dictionary\n",
        "def writeStreetsDictionary():\n",
        "    with open(\"streetNames.txt\", \"w\") as f:\n",
        "        for key, value in streetsDictionary.items():\n",
        "            f.write(key + \"\\n\")\n",
        "writeStreetsDictionary()"
      ],
      "metadata": {
        "id": "SE4BMbtDdoFl"
      },
      "execution_count": null,
      "outputs": []
    },
    {
      "cell_type": "code",
      "source": [
        "# Intersections Adjacency List\n",
        "def writeStreetsAdList():\n",
        "    with open(\"streetsAdList.txt\", \"w\") as f:\n",
        "        for streets in intersectionsAdList:\n",
        "            for i in range(len(streets)):\n",
        "                streets[i] = str(streets[i])    \n",
        "            f.write(', '.join(streets) + \"\\n\")        \n",
        "writeStreetsAdList()"
      ],
      "metadata": {
        "id": "gOBUCQUcl5Ay"
      },
      "execution_count": null,
      "outputs": []
    },
    {
      "cell_type": "code",
      "source": [
        "# Write street map\n",
        "def writeStreetMap():\n",
        "    with open(\"map.txt\", \"w\") as f:  \n",
        "        for key, value in map.items():\n",
        "            listWOCommas = (str(value).strip('[]')).replace(\",\", \"\")\n",
        "            f.write(str(key) + \" \" + listWOCommas + '\\n')\n",
        "writeStreetMap()"
      ],
      "metadata": {
        "id": "wQy0a94GsHFk"
      },
      "execution_count": null,
      "outputs": []
    },
    {
      "cell_type": "markdown",
      "source": [
        "##**Aristas**"
      ],
      "metadata": {
        "id": "rxtXFDrBSOma"
      }
    },
    {
      "cell_type": "code",
      "source": [
        "from datetime import datetime\n",
        "from math import radians, cos, sin, asin, sqrt"
      ],
      "metadata": {
        "id": "jaLV53jjXGkF"
      },
      "execution_count": null,
      "outputs": []
    },
    {
      "cell_type": "code",
      "source": [
        "# devuelve el tiempo actual automáticamente\n",
        "def getCurrentTime():\n",
        "\n",
        "    now = datetime.now()\n",
        "    time = now.strftime(\"%H %p\")\n",
        "    time = time.split(\" \")\n",
        "\n",
        "    # convierto la hora a la timezone de Perú\n",
        "    if time[0] >= \"18\":\n",
        "        time[0] = int(time[0]) - 5\n",
        "    \n",
        "    return time\n",
        "getCurrentTime()"
      ],
      "metadata": {
        "colab": {
          "base_uri": "https://localhost:8080/"
        },
        "id": "Erj9KyTfVgbd",
        "outputId": "22084e47-70da-4524-a9fd-689ffea9e2b7"
      },
      "execution_count": null,
      "outputs": [
        {
          "output_type": "execute_result",
          "data": {
            "text/plain": [
              "[16, 'PM']"
            ]
          },
          "metadata": {},
          "execution_count": 25
        }
      ]
    },
    {
      "cell_type": "code",
      "source": [
        "def getlongitude(n1, n2):\n",
        "     x1,y1=n1\n",
        "     x2,y2=n2\n",
        "     longitude =  math.sqrt((x2-x1)**2+(y2-y1)**2)\n",
        "     return longitude"
      ],
      "metadata": {
        "id": "ROBaiwsgb3RA"
      },
      "execution_count": null,
      "outputs": []
    },
    {
      "cell_type": "code",
      "source": [
        "def getFactor(time = '6'):\n",
        "    factor = 0\n",
        "    traffic_diccionary={\n",
        "        \"poco_trafico\": 2,\n",
        "        \"trafico_promedio\":4,\n",
        "        \"mucho_trafico\":8\n",
        "    }\n",
        "    traffic_time = int(time)\n",
        "    if(traffic_time in range (0,6) or traffic_time in range (19,25) ):\n",
        "       factor = traffic_diccionary[\"poco_trafico\"];\n",
        "\n",
        "    elif(traffic_time in range (12,19)):\n",
        "        factor = traffic_diccionary[\"trafico_promedio\"];\n",
        "\n",
        "    elif(traffic_time in range (6,10) or traffic_time in range (9,12)):\n",
        "          factor = traffic_diccionary[\"mucho_trafico\"];\n",
        "\n",
        "    return factor;\n",
        "  \n",
        "getFactor()"
      ],
      "metadata": {
        "id": "Uml9xb81cllN",
        "colab": {
          "base_uri": "https://localhost:8080/"
        },
        "outputId": "66b845b7-6453-4c0a-e180-e8c2401ec763"
      },
      "execution_count": null,
      "outputs": [
        {
          "output_type": "execute_result",
          "data": {
            "text/plain": [
              "8"
            ]
          },
          "metadata": {},
          "execution_count": 65
        }
      ]
    },
    {
      "cell_type": "code",
      "source": [
        "def formatearLatitudeorLongitude(input=\"-77.114.573\"):\n",
        "    separar = input\n",
        "    separar = separar.split(\".\");\n",
        "\n",
        "    union= separar[0]+\".\"+separar[1]+separar[2];\n",
        "    variable_float = float(union)\n",
        "\n",
        "\n",
        "    return variable_float\n",
        "\n",
        "print(formatearLatitudeorLongitude())"
      ],
      "metadata": {
        "colab": {
          "base_uri": "https://localhost:8080/"
        },
        "id": "4Kg9uMeTSQQt",
        "outputId": "a6cb64d2-f8ad-4020-80a5-dd5c3aca7d14"
      },
      "execution_count": null,
      "outputs": [
        {
          "output_type": "stream",
          "name": "stdout",
          "text": [
            "-77.114573\n"
          ]
        }
      ]
    },
    {
      "cell_type": "code",
      "source": [
        "def calculateWeight(n1, n2):\n",
        "\n",
        "    time = getCurrentTime()\n",
        "    factor = getFactor(time)\n",
        "    longitude = getlongitude(n1, n2)\n",
        "    \n",
        "    weight = factor * longitude\n",
        "\n",
        "    return weight"
      ],
      "metadata": {
        "id": "p05yGTAtKLAC"
      },
      "execution_count": null,
      "outputs": []
    },
    {
      "cell_type": "code",
      "source": [
        "# el nuevo grafo será un diccionario, donde cada \"key\" contiene 1 arreglo de arreglos\n",
        "# cada arreglo dentro del principal, tiene solo 2 posiciones\n",
        "# 1era posición del arreglo: 1 tuple de intersecciones\n",
        "# 2da posición del arreglo: peso de la arista con respecto al valor de la \"key\"\n",
        "\n",
        "def updateGraph():\n",
        "    # map con pesos\n",
        "    mapW = {}\n",
        "    for key in map:\n",
        "        mapW[key] = []\n",
        "        for arista in map[key]:\n",
        "            weight = calculateWeight(key, arista)\n",
        "            mapW[key].append([arista, weight])"
      ],
      "metadata": {
        "id": "4HQsjf9pSKnv"
      },
      "execution_count": null,
      "outputs": []
    }
  ]
}